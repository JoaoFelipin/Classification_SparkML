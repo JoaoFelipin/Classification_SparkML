{
  "nbformat": 4,
  "nbformat_minor": 0,
  "metadata": {
    "colab": {
      "provenance": []
    },
    "kernelspec": {
      "name": "python3",
      "display_name": "Python 3"
    },
    "language_info": {
      "name": "python"
    }
  },
  "cells": [
    {
      "cell_type": "code",
      "execution_count": 1,
      "metadata": {
        "colab": {
          "base_uri": "https://localhost:8080/"
        },
        "id": "SADfih3zEDrA",
        "outputId": "406be373-fe74-4928-bc2e-168f7657079e"
      },
      "outputs": [
        {
          "output_type": "stream",
          "name": "stdout",
          "text": [
            "Collecting pyspark\n",
            "  Downloading pyspark-3.5.0.tar.gz (316.9 MB)\n",
            "\u001b[2K     \u001b[90m━━━━━━━━━━━━━━━━━━━━━━━━━━━━━━━━━━━━━━━━\u001b[0m \u001b[32m316.9/316.9 MB\u001b[0m \u001b[31m3.8 MB/s\u001b[0m eta \u001b[36m0:00:00\u001b[0m\n",
            "\u001b[?25h  Preparing metadata (setup.py) ... \u001b[?25l\u001b[?25hdone\n",
            "Requirement already satisfied: py4j==0.10.9.7 in /usr/local/lib/python3.10/dist-packages (from pyspark) (0.10.9.7)\n",
            "Building wheels for collected packages: pyspark\n",
            "  Building wheel for pyspark (setup.py) ... \u001b[?25l\u001b[?25hdone\n",
            "  Created wheel for pyspark: filename=pyspark-3.5.0-py2.py3-none-any.whl size=317425345 sha256=dc4fa7dd733a09fb7c377b5e9a239b23519833a656fb2449bab546cbe2a748dc\n",
            "  Stored in directory: /root/.cache/pip/wheels/41/4e/10/c2cf2467f71c678cfc8a6b9ac9241e5e44a01940da8fbb17fc\n",
            "Successfully built pyspark\n",
            "Installing collected packages: pyspark\n",
            "Successfully installed pyspark-3.5.0\n"
          ]
        }
      ],
      "source": [
        "!pip install pyspark"
      ]
    },
    {
      "cell_type": "code",
      "source": [
        "from pyspark.sql import SparkSession\n",
        "from pyspark import SparkContext, SparkConf\n",
        "\n",
        "# ConfigureSparkUI\n",
        "conf = SparkConf().set('spark.ui.port', '4050')\n",
        "sc = SparkContext(conf=conf)\n",
        "sc.stop()\n",
        "\n",
        "spark = (\n",
        "    SparkSession.builder                  # Método da classe que constrói a sessão spark\n",
        "      .appName(\"Meu Primeiro App Spark\")  # Nome do App Spark\n",
        "      .getOrCreate())                     # Verifica se há uma sessão ativa, e se não há, cria uma nova sessão\n"
      ],
      "metadata": {
        "id": "EEQWLb-3Gt9I"
      },
      "execution_count": 2,
      "outputs": []
    },
    {
      "cell_type": "code",
      "source": [
        "#lendo os dados\n",
        "from pyspark.sql.types import StructType, StructField, IntegerType, DoubleType, StringType, TimestampType\n",
        "\n",
        "schema_remetente_destinatario = StructType([\n",
        "    StructField('nome', StringType()),\n",
        "    StructField('banco', StringType()),\n",
        "    StructField('tipo', StringType()),\n",
        "])\n",
        "\n",
        "\n",
        "schema_base_pix = StructType([\n",
        "    StructField('id_transacao', IntegerType()),\n",
        "    StructField('valor', DoubleType()),\n",
        "    StructField('remetente', schema_remetente_destinatario),\n",
        "    StructField('destinatario', schema_remetente_destinatario),\n",
        "    StructField('transaction_date', TimestampType()),\n",
        "    StructField('chave_pix', StringType()),\n",
        "    StructField('fraude', IntegerType()),\n",
        "    StructField('categoria',StringType())\n",
        "])\n",
        "\n",
        "\n",
        "caminho_json = '/content/case_final.json'\n",
        "\n",
        "df = spark.read.json(\n",
        "    caminho_json,\n",
        "    schema=schema_base_pix,\n",
        "    timestampFormat=\"yyyy-MM-dd HH:mm:ss\"\n",
        ")"
      ],
      "metadata": {
        "id": "4kQlxFDZFbXN"
      },
      "execution_count": 34,
      "outputs": []
    },
    {
      "cell_type": "code",
      "source": [
        "df.show()"
      ],
      "metadata": {
        "colab": {
          "base_uri": "https://localhost:8080/"
        },
        "id": "_wW6pMvlG8Ag",
        "outputId": "0aa3d7ef-86fc-4866-98d1-b561a5f29096"
      },
      "execution_count": 35,
      "outputs": [
        {
          "output_type": "stream",
          "name": "stdout",
          "text": [
            "+------------+------------------+--------------------+--------------------+-------------------+---------+------+-------------+\n",
            "|id_transacao|             valor|           remetente|        destinatario|   transaction_date|chave_pix|fraude|    categoria|\n",
            "+------------+------------------+--------------------+--------------------+-------------------+---------+------+-------------+\n",
            "|        1000|            588.08|{Jonathan Gonsalv...|{Calebe Melo, Cai...|2021-07-16 05:00:55|aleatoria|     0|       outros|\n",
            "|        1001|           80682.5|{Jonathan Gonsalv...|{Davi Lucas Perei...|2022-04-20 12:34:01|  celular|     1|transferencia|\n",
            "|        1002|             549.9|{Jonathan Gonsalv...|{Sabrina Castro, ...|2022-07-10 16:51:34|      cpf|     0|        lazer|\n",
            "|        1003|             90.83|{Jonathan Gonsalv...|{Francisco da Con...|2022-10-20 10:57:36|aleatoria|     0|   transporte|\n",
            "|        1004|13272.619999999999|{Jonathan Gonsalv...|{Isabelly Ferreir...|2021-04-06 20:26:51|    email|     0|transferencia|\n",
            "|        1005|           9347.58|{Jonathan Gonsalv...|{Srta. Maria da C...|2022-07-24 15:22:27|aleatoria|     0|        saude|\n",
            "|        1006|           7836.76|{Jonathan Gonsalv...|{Catarina Duarte,...|2022-10-05 19:20:24|      cpf|     0|    presentes|\n",
            "|        1007|           3883.62|{Jonathan Gonsalv...|{Vitor Correia, X...|2021-04-24 17:36:34|      cpf|     0|    vestuario|\n",
            "|        1008|               4.0|{Jonathan Gonsalv...|{Theo Novaes, C6,...|2021-11-16 21:46:47|aleatoria|     0|        saude|\n",
            "|        1009|              24.3|{Jonathan Gonsalv...|{Isabel Caldeira,...|2021-07-26 02:08:49|      cpf|     0|transferencia|\n",
            "|        1010|           87555.3|{Jonathan Gonsalv...|{Sr. Henrique Car...|2022-03-14 15:34:45|aleatoria|     1|transferencia|\n",
            "|        1011|          21345.91|{Jonathan Gonsalv...|{Felipe Cavalcant...|2021-10-31 04:31:51|      cpf|     1|transferencia|\n",
            "|        1012|          73605.85|{Jonathan Gonsalv...|{Dr. Davi da Luz,...|2021-04-30 19:19:56|  celular|     1|transferencia|\n",
            "|        1013|             93.53|{Jonathan Gonsalv...|{Stephany Cardoso...|2023-01-13 13:39:57|      cpf|     0|  alimentacao|\n",
            "|        1014|            564.11|{Jonathan Gonsalv...|{Sra. Julia Arauj...|2022-05-27 23:06:08|aleatoria|     0|    vestuario|\n",
            "|        1015|              3.59|{Jonathan Gonsalv...|{Carolina Farias,...|2021-10-06 21:19:58|    email|     0|        saude|\n",
            "|        1016|          19164.89|{Jonathan Gonsalv...|{Isabelly da Cost...|2022-03-06 17:59:43|    email|     0|  alimentacao|\n",
            "|        1017|             68.45|{Jonathan Gonsalv...|{Joao Miguel Silv...|2022-04-01 18:17:40|aleatoria|     0|    vestuario|\n",
            "|        1018|            941.25|{Jonathan Gonsalv...|{Matheus Moura, C...|2022-05-23 00:28:13|  celular|     0|    vestuario|\n",
            "|        1019|27009.910000000003|{Jonathan Gonsalv...|{Gabrielly Goncal...|2021-08-04 23:22:37|    email|     1|transferencia|\n",
            "+------------+------------------+--------------------+--------------------+-------------------+---------+------+-------------+\n",
            "only showing top 20 rows\n",
            "\n"
          ]
        }
      ]
    },
    {
      "cell_type": "code",
      "source": [
        "df.printSchema()"
      ],
      "metadata": {
        "colab": {
          "base_uri": "https://localhost:8080/"
        },
        "id": "qvBTKB_OM5ca",
        "outputId": "d0f50bcb-de4c-4143-a9fd-20d399bda64a"
      },
      "execution_count": 36,
      "outputs": [
        {
          "output_type": "stream",
          "name": "stdout",
          "text": [
            "root\n",
            " |-- id_transacao: integer (nullable = true)\n",
            " |-- valor: double (nullable = true)\n",
            " |-- remetente: struct (nullable = true)\n",
            " |    |-- nome: string (nullable = true)\n",
            " |    |-- banco: string (nullable = true)\n",
            " |    |-- tipo: string (nullable = true)\n",
            " |-- destinatario: struct (nullable = true)\n",
            " |    |-- nome: string (nullable = true)\n",
            " |    |-- banco: string (nullable = true)\n",
            " |    |-- tipo: string (nullable = true)\n",
            " |-- transaction_date: timestamp (nullable = true)\n",
            " |-- chave_pix: string (nullable = true)\n",
            " |-- fraude: integer (nullable = true)\n",
            " |-- categoria: string (nullable = true)\n",
            "\n"
          ]
        }
      ]
    },
    {
      "cell_type": "code",
      "source": [
        "from pyspark.sql.functions import *\n",
        "df_flatten = df.withColumns({\n",
        "    'destinatario_nome':col('destinatario').getField('nome'),\n",
        "    'destinatario_banco':col('destinatario').getField('banco'),\n",
        "    'destinatario_tipo':col('destinatario').getField('tipo'),\n",
        "}).drop('remetente','destinatario')"
      ],
      "metadata": {
        "id": "LHEj6nvzG9R5"
      },
      "execution_count": 37,
      "outputs": []
    },
    {
      "cell_type": "code",
      "source": [
        "df_flatten.show()"
      ],
      "metadata": {
        "colab": {
          "base_uri": "https://localhost:8080/"
        },
        "id": "iUKWMc2YIvXj",
        "outputId": "c3a0b294-7e32-42f4-b880-94460f31f60f"
      },
      "execution_count": 38,
      "outputs": [
        {
          "output_type": "stream",
          "name": "stdout",
          "text": [
            "+------------+------------------+-------------------+---------+------+-------------+--------------------+------------------+-----------------+\n",
            "|id_transacao|             valor|   transaction_date|chave_pix|fraude|    categoria|   destinatario_nome|destinatario_banco|destinatario_tipo|\n",
            "+------------+------------------+-------------------+---------+------+-------------+--------------------+------------------+-----------------+\n",
            "|        1000|            588.08|2021-07-16 05:00:55|aleatoria|     0|       outros|         Calebe Melo|             Caixa|               PF|\n",
            "|        1001|           80682.5|2022-04-20 12:34:01|  celular|     1|transferencia|  Davi Lucas Pereira|             Caixa|               PJ|\n",
            "|        1002|             549.9|2022-07-10 16:51:34|      cpf|     0|        lazer|      Sabrina Castro|            Nubank|               PF|\n",
            "|        1003|             90.83|2022-10-20 10:57:36|aleatoria|     0|   transporte|Francisco da Conc...|            Nubank|               PJ|\n",
            "|        1004|13272.619999999999|2021-04-06 20:26:51|    email|     0|transferencia|   Isabelly Ferreira|               BTG|               PJ|\n",
            "|        1005|           9347.58|2022-07-24 15:22:27|aleatoria|     0|        saude|Srta. Maria da Cunha|              Itau|               PJ|\n",
            "|        1006|           7836.76|2022-10-05 19:20:24|      cpf|     0|    presentes|     Catarina Duarte|                C6|               PF|\n",
            "|        1007|           3883.62|2021-04-24 17:36:34|      cpf|     0|    vestuario|       Vitor Correia|                XP|               PJ|\n",
            "|        1008|               4.0|2021-11-16 21:46:47|aleatoria|     0|        saude|         Theo Novaes|                C6|               PJ|\n",
            "|        1009|              24.3|2021-07-26 02:08:49|      cpf|     0|transferencia|     Isabel Caldeira|                XP|               PJ|\n",
            "|        1010|           87555.3|2022-03-14 15:34:45|aleatoria|     1|transferencia|Sr. Henrique Cardoso|            Nubank|               PF|\n",
            "|        1011|          21345.91|2021-10-31 04:31:51|      cpf|     1|transferencia|   Felipe Cavalcanti|            Nubank|               PJ|\n",
            "|        1012|          73605.85|2021-04-30 19:19:56|  celular|     1|transferencia|     Dr. Davi da Luz|          Bradesco|               PJ|\n",
            "|        1013|             93.53|2023-01-13 13:39:57|      cpf|     0|  alimentacao|    Stephany Cardoso|                C6|               PJ|\n",
            "|        1014|            564.11|2022-05-27 23:06:08|aleatoria|     0|    vestuario|   Sra. Julia Araujo|              Itau|               PJ|\n",
            "|        1015|              3.59|2021-10-06 21:19:58|    email|     0|        saude|     Carolina Farias|            Nubank|               PJ|\n",
            "|        1016|          19164.89|2022-03-06 17:59:43|    email|     0|  alimentacao|   Isabelly da Costa|            Nubank|               PJ|\n",
            "|        1017|             68.45|2022-04-01 18:17:40|aleatoria|     0|    vestuario|Joao Miguel Silveira|                C6|               PJ|\n",
            "|        1018|            941.25|2022-05-23 00:28:13|  celular|     0|    vestuario|       Matheus Moura|                C6|               PF|\n",
            "|        1019|27009.910000000003|2021-08-04 23:22:37|    email|     1|transferencia| Gabrielly Goncalves|              Itau|               PJ|\n",
            "+------------+------------------+-------------------+---------+------+-------------+--------------------+------------------+-----------------+\n",
            "only showing top 20 rows\n",
            "\n"
          ]
        }
      ]
    },
    {
      "cell_type": "code",
      "source": [
        "from pyspark.ml.feature import StringIndexer"
      ],
      "metadata": {
        "id": "o3gXqLmgIw9r"
      },
      "execution_count": 17,
      "outputs": []
    },
    {
      "cell_type": "code",
      "source": [
        "indexer = StringIndexer(\n",
        "    inputCols=[\n",
        "        'destinatario_nome',\n",
        "        'destinatario_banco',\n",
        "        'destinatario_tipo',\n",
        "        'categoria',\n",
        "        'chave_pix'\n",
        "    ],\n",
        "    outputCols=[\n",
        "        'destinatario_nome_index',\n",
        "        'destinatario_banco_index',\n",
        "        'destinatario_tipo_index',\n",
        "        'categoria_index',\n",
        "        'chave_pix_index'\n",
        "    ]\n",
        "\n",
        ")\n",
        "\n"
      ],
      "metadata": {
        "id": "XYuW2hJuJm93"
      },
      "execution_count": 39,
      "outputs": []
    },
    {
      "cell_type": "code",
      "source": [
        "df_index = indexer.fit(df_flatten).transform(df_flatten)"
      ],
      "metadata": {
        "id": "YKajOLuQKsjN"
      },
      "execution_count": 40,
      "outputs": []
    },
    {
      "cell_type": "code",
      "source": [
        "df_index.show()"
      ],
      "metadata": {
        "colab": {
          "base_uri": "https://localhost:8080/"
        },
        "id": "pSbSAdSdLOMy",
        "outputId": "4bea47d0-586e-4a1a-dc26-a3dd399d2ffb"
      },
      "execution_count": 41,
      "outputs": [
        {
          "output_type": "stream",
          "name": "stdout",
          "text": [
            "+------------+------------------+-------------------+---------+------+-------------+--------------------+------------------+-----------------+-----------------------+------------------------+-----------------------+---------------+---------------+\n",
            "|id_transacao|             valor|   transaction_date|chave_pix|fraude|    categoria|   destinatario_nome|destinatario_banco|destinatario_tipo|destinatario_nome_index|destinatario_banco_index|destinatario_tipo_index|categoria_index|chave_pix_index|\n",
            "+------------+------------------+-------------------+---------+------+-------------+--------------------+------------------+-----------------+-----------------------+------------------------+-----------------------+---------------+---------------+\n",
            "|        1000|            588.08|2021-07-16 05:00:55|aleatoria|     0|       outros|         Calebe Melo|             Caixa|               PF|                12045.0|                     4.0|                    1.0|            6.0|            3.0|\n",
            "|        1001|           80682.5|2022-04-20 12:34:01|  celular|     1|transferencia|  Davi Lucas Pereira|             Caixa|               PJ|                  259.0|                     4.0|                    0.0|            0.0|            2.0|\n",
            "|        1002|             549.9|2022-07-10 16:51:34|      cpf|     0|        lazer|      Sabrina Castro|            Nubank|               PF|                  132.0|                     2.0|                    1.0|            4.0|            1.0|\n",
            "|        1003|             90.83|2022-10-20 10:57:36|aleatoria|     0|   transporte|Francisco da Conc...|            Nubank|               PJ|                10475.0|                     2.0|                    0.0|            8.0|            3.0|\n",
            "|        1004|13272.619999999999|2021-04-06 20:26:51|    email|     0|transferencia|   Isabelly Ferreira|               BTG|               PJ|                 4159.0|                     1.0|                    0.0|            0.0|            0.0|\n",
            "|        1005|           9347.58|2022-07-24 15:22:27|aleatoria|     0|        saude|Srta. Maria da Cunha|              Itau|               PJ|                26853.0|                     3.0|                    0.0|            3.0|            3.0|\n",
            "|        1006|           7836.76|2022-10-05 19:20:24|      cpf|     0|    presentes|     Catarina Duarte|                C6|               PF|                 5578.0|                     5.0|                    1.0|            7.0|            1.0|\n",
            "|        1007|           3883.62|2021-04-24 17:36:34|      cpf|     0|    vestuario|       Vitor Correia|                XP|               PJ|                13528.0|                     0.0|                    0.0|            2.0|            1.0|\n",
            "|        1008|               4.0|2021-11-16 21:46:47|aleatoria|     0|        saude|         Theo Novaes|                C6|               PJ|                 1141.0|                     5.0|                    0.0|            3.0|            3.0|\n",
            "|        1009|              24.3|2021-07-26 02:08:49|      cpf|     0|transferencia|     Isabel Caldeira|                XP|               PJ|                 8369.0|                     0.0|                    0.0|            0.0|            1.0|\n",
            "|        1010|           87555.3|2022-03-14 15:34:45|aleatoria|     1|transferencia|Sr. Henrique Cardoso|            Nubank|               PF|                22115.0|                     2.0|                    1.0|            0.0|            3.0|\n",
            "|        1011|          21345.91|2021-10-31 04:31:51|      cpf|     1|transferencia|   Felipe Cavalcanti|            Nubank|               PJ|                 5897.0|                     2.0|                    0.0|            0.0|            1.0|\n",
            "|        1012|          73605.85|2021-04-30 19:19:56|  celular|     1|transferencia|     Dr. Davi da Luz|          Bradesco|               PJ|                12212.0|                     6.0|                    0.0|            0.0|            2.0|\n",
            "|        1013|             93.53|2023-01-13 13:39:57|      cpf|     0|  alimentacao|    Stephany Cardoso|                C6|               PJ|                   10.0|                     5.0|                    0.0|            1.0|            1.0|\n",
            "|        1014|            564.11|2022-05-27 23:06:08|aleatoria|     0|    vestuario|   Sra. Julia Araujo|              Itau|               PJ|                24413.0|                     3.0|                    0.0|            2.0|            3.0|\n",
            "|        1015|              3.59|2021-10-06 21:19:58|    email|     0|        saude|     Carolina Farias|            Nubank|               PJ|                10121.0|                     2.0|                    0.0|            3.0|            0.0|\n",
            "|        1016|          19164.89|2022-03-06 17:59:43|    email|     0|  alimentacao|   Isabelly da Costa|            Nubank|               PJ|                 6122.0|                     2.0|                    0.0|            1.0|            0.0|\n",
            "|        1017|             68.45|2022-04-01 18:17:40|aleatoria|     0|    vestuario|Joao Miguel Silveira|                C6|               PJ|                 6214.0|                     5.0|                    0.0|            2.0|            3.0|\n",
            "|        1018|            941.25|2022-05-23 00:28:13|  celular|     0|    vestuario|       Matheus Moura|                C6|               PF|                 1829.0|                     5.0|                    1.0|            2.0|            2.0|\n",
            "|        1019|27009.910000000003|2021-08-04 23:22:37|    email|     1|transferencia| Gabrielly Goncalves|              Itau|               PJ|                 5973.0|                     3.0|                    0.0|            0.0|            0.0|\n",
            "+------------+------------------+-------------------+---------+------+-------------+--------------------+------------------+-----------------+-----------------------+------------------------+-----------------------+---------------+---------------+\n",
            "only showing top 20 rows\n",
            "\n"
          ]
        }
      ]
    },
    {
      "cell_type": "code",
      "source": [
        "is_fraud = df_index.filter(\"fraude == 1\")\n",
        "no_fraud = df_index.filter(\"fraude == 0\")"
      ],
      "metadata": {
        "id": "TlVi-4NCKSvc"
      },
      "execution_count": 42,
      "outputs": []
    },
    {
      "cell_type": "code",
      "source": [
        "no_fraud = no_fraud.sample(False,0.01,seed=123)"
      ],
      "metadata": {
        "id": "8LOm1UQjNlbb"
      },
      "execution_count": 43,
      "outputs": []
    },
    {
      "cell_type": "code",
      "source": [
        "df_concat = no_fraud.union(is_fraud)\n",
        "df = df_concat.sort('transaction_date')\n",
        "df.count()"
      ],
      "metadata": {
        "colab": {
          "base_uri": "https://localhost:8080/"
        },
        "id": "ZLGMl3XNN7jF",
        "outputId": "e4789ac6-e6fd-4aa5-9cf8-ec1de02e4517"
      },
      "execution_count": 44,
      "outputs": [
        {
          "output_type": "execute_result",
          "data": {
            "text/plain": [
              "16202"
            ]
          },
          "metadata": {},
          "execution_count": 44
        }
      ]
    },
    {
      "cell_type": "code",
      "source": [
        "train,test = df.randomSplit([0.7,0.3],seed=123)"
      ],
      "metadata": {
        "id": "vKPvk2AAOIcI"
      },
      "execution_count": 45,
      "outputs": []
    },
    {
      "cell_type": "code",
      "source": [
        "is_fraud = udf(lambda fraud: 1.0 if fraud >0 else 0.0, DoubleType())\n",
        "train = train.withColumn('is_fraud',is_fraud(train.fraude))"
      ],
      "metadata": {
        "id": "JHh-n-bcOi-S"
      },
      "execution_count": 47,
      "outputs": []
    },
    {
      "cell_type": "code",
      "source": [
        "from pyspark.ml.classification import LogisticRegression\n",
        "from pyspark.ml.feature import VectorAssembler\n",
        "from pyspark.ml import pipeline"
      ],
      "metadata": {
        "id": "mw0Evc9OPDd-"
      },
      "execution_count": 50,
      "outputs": []
    },
    {
      "cell_type": "code",
      "source": [
        "assembler = VectorAssembler(\n",
        "    inputCols=[x for x in train.columns if x not in ['transaction_date','fraude','is_fraud','destinatario_nome','destinatario_tipo','destinatario_banco','chave_pix','categoria']],\n",
        "    outputCol='features'\n",
        ")"
      ],
      "metadata": {
        "id": "xUA0LQIRPZrf"
      },
      "execution_count": 60,
      "outputs": []
    },
    {
      "cell_type": "code",
      "source": [
        "lr = LogisticRegression().setParams(\n",
        "    maxIter=10000,\n",
        "    labelCol = 'is_fraud',\n",
        "    predictionCol= 'prediction'\n",
        ")"
      ],
      "metadata": {
        "id": "xB8GXwJ1Pz0B"
      },
      "execution_count": 61,
      "outputs": []
    },
    {
      "cell_type": "code",
      "source": [
        "model = pipeline.Pipeline(stages=[assembler,lr]).fit(train)"
      ],
      "metadata": {
        "id": "K5irwvNJQJ9m"
      },
      "execution_count": 62,
      "outputs": []
    },
    {
      "cell_type": "code",
      "source": [
        "predicted = model.transform(test)"
      ],
      "metadata": {
        "id": "fglXIp7IQjjX"
      },
      "execution_count": 63,
      "outputs": []
    },
    {
      "cell_type": "code",
      "source": [
        "predicted.show()"
      ],
      "metadata": {
        "colab": {
          "base_uri": "https://localhost:8080/"
        },
        "id": "hvaFVS1YQ8Hq",
        "outputId": "142e6605-964f-44f9-fc91-edea94efee84"
      },
      "execution_count": 64,
      "outputs": [
        {
          "output_type": "stream",
          "name": "stdout",
          "text": [
            "+------------+--------+-------------------+---------+------+-------------+--------------------+------------------+-----------------+-----------------------+------------------------+-----------------------+---------------+---------------+--------------------+--------------------+--------------------+----------+\n",
            "|id_transacao|   valor|   transaction_date|chave_pix|fraude|    categoria|   destinatario_nome|destinatario_banco|destinatario_tipo|destinatario_nome_index|destinatario_banco_index|destinatario_tipo_index|categoria_index|chave_pix_index|            features|       rawPrediction|         probability|prediction|\n",
            "+------------+--------+-------------------+---------+------+-------------+--------------------+------------------+-----------------+-----------------------+------------------------+-----------------------+---------------+---------------+--------------------+--------------------+--------------------+----------+\n",
            "|        1011|21345.91|2021-10-31 04:31:51|      cpf|     1|transferencia|   Felipe Cavalcanti|            Nubank|               PJ|                 5897.0|                     2.0|                    0.0|            0.0|            1.0|[1011.0,21345.91,...|[-30.160797827873...|[7.96768091795701...|       1.0|\n",
            "|        1027|75786.55|2021-10-20 19:39:46|  celular|     1|transferencia|      Otavio Freitas|            Nubank|               PF|                  341.0|                     2.0|                    1.0|            0.0|            2.0|[1027.0,75786.55,...|[-299.98801472880...|[5.21027404096269...|       1.0|\n",
            "|        1038|86418.48|2021-11-23 13:32:51|    email|     1|transferencia|         Isis Farias|             Caixa|               PJ|                 2628.0|                     4.0|                    0.0|            0.0|            0.0|[1038.0,86418.48,...|[-359.78118686634...|[5.61068454134511...|       1.0|\n",
            "|        1066|87812.62|2022-05-07 08:23:02|  celular|     1|transferencia|       Joana Barbosa|             Caixa|               PJ|                12610.0|                     4.0|                    0.0|            0.0|            2.0|[1066.0,87812.62,...|[-373.26121044070...|[7.84722304771693...|       1.0|\n",
            "|        1069|48297.18|2021-04-10 15:10:51|  celular|     1|transferencia|          Nina Jesus|          Bradesco|               PF|                 3088.0|                     6.0|                    1.0|            0.0|            2.0|[1069.0,48297.18,...|[-154.69106359532...|[6.58452848527045...|       1.0|\n",
            "|        1100|34793.98|2021-01-17 11:59:46|    email|     1|transferencia|Dr. Luiz Gustavo ...|              Itau|               PF|                18369.0|                     3.0|                    1.0|            0.0|            0.0|[1100.0,34793.98,...|[-93.382255045884...|[2.78356858135829...|       1.0|\n",
            "|        1120|45131.35|2022-01-22 01:55:24|aleatoria|     1|transferencia|       Joaquim Cunha|              Itau|               PF|                 4262.0|                     3.0|                    1.0|            0.0|            3.0|[1120.0,45131.35,...|[-143.79458016187...|[3.55473563691441...|       1.0|\n",
            "|        1136|37926.52|2021-12-07 19:35:51|  celular|     1|transferencia|Sra. Emanuella Me...|                C6|               PJ|                24117.0|                     5.0|                    0.0|            0.0|            2.0|[1136.0,37926.52,...|[-120.30657667618...|[5.64309826531342...|       1.0|\n",
            "|        1137|54317.83|2021-08-28 10:31:35|    email|     1|transferencia|      Gabriel Farias|              Itau|               PJ|                 5945.0|                     3.0|                    0.0|            0.0|            0.0|[1137.0,54317.83,...|[-197.39364800375...|[1.87511500535428...|       1.0|\n",
            "|        1152|38907.48|2021-02-07 04:17:16|  celular|     1|transferencia|       Alice Azevedo|            Nubank|               PJ|                 1192.0|                     2.0|                    0.0|            0.0|            2.0|[1152.0,38907.48,...|[-119.55421947657...|[1.19746324787166...|       1.0|\n",
            "|        1154|32825.54|2022-07-25 20:07:56|  celular|     1|transferencia|       Caua da Costa|          Bradesco|               PJ|                 3730.0|                     6.0|                    0.0|            0.0|            2.0|[1154.0,32825.54,...|[-84.244042583274...|[2.58986527634970...|       1.0|\n",
            "|        1165| 68717.9|2021-07-28 04:26:56|  celular|     1|transferencia|   Dr. Kaique Duarte|                C6|               PF|                14147.0|                     5.0|                    1.0|            0.0|            2.0|[1165.0,68717.9,1...|[-265.61765894582...|[4.40267293401419...|       1.0|\n",
            "|        1186|47684.29|2021-07-09 14:17:11|      cpf|     1|transferencia|Dr. Gustavo Henri...|          Bradesco|               PJ|                17690.0|                     6.0|                    0.0|            0.0|            1.0|[1186.0,47684.29,...|[-165.45019414422...|[1.39924464446040...|       1.0|\n",
            "|        1193|79174.38|2022-10-22 06:42:08|aleatoria|     1|transferencia|        Calebe Porto|                C6|               PF|                 3670.0|                     5.0|                    1.0|            0.0|            3.0|[1193.0,79174.38,...|[-316.04751387807...|[5.52470004317334...|       1.0|\n",
            "|        1232|48993.64|2021-12-06 08:48:14|      cpf|     1|transferencia|Srta. Isadora Nas...|                XP|               PJ|                26324.0|                     0.0|                    0.0|            0.0|            1.0|[1232.0,48993.64,...|[-183.46379966016...|[2.10224911626517...|       1.0|\n",
            "|        1234|42959.57|2021-04-16 23:50:25|  celular|     1|transferencia|Maria Eduarda Car...|                C6|               PF|                   55.0|                     5.0|                    1.0|            0.0|            2.0|[1234.0,42959.57,...|[-127.25645860537...|[5.41031113497763...|       1.0|\n",
            "|        1283|36345.31|2021-08-08 19:37:56|  celular|     1|transferencia|    Rafaela Teixeira|            Nubank|               PJ|                 4920.0|                     2.0|                    0.0|            0.0|            2.0|[1283.0,36345.31,...|[-107.95175952242...|[1.30962370557664...|       1.0|\n",
            "|        1305|85179.93|2021-03-07 10:57:20|      cpf|     1|transferencia|  Dra. Mirella Moura|               BTG|               PF|                14765.0|                     1.0|                    1.0|            0.0|            1.0|[1305.0,85179.93,...|[-354.57510761991...|[1.02326316397236...|       1.0|\n",
            "|        1320|77228.12|2021-10-21 06:14:15|  celular|     1|transferencia|        Sophie Rocha|                XP|               PJ|                 3225.0|                     0.0|                    0.0|            0.0|            2.0|[1320.0,77228.12,...|[-320.01225539331...|[1.04819803512151...|       1.0|\n",
            "|        1331|71392.99|2021-12-24 17:29:48|      cpf|     1|transferencia|        Yuri Pereira|              Itau|               PF|                 7357.0|                     3.0|                    1.0|            0.0|            1.0|[1331.0,71392.99,...|[-278.02304570920...|[1.80353845412766...|       1.0|\n",
            "+------------+--------+-------------------+---------+------+-------------+--------------------+------------------+-----------------+-----------------------+------------------------+-----------------------+---------------+---------------+--------------------+--------------------+--------------------+----------+\n",
            "only showing top 20 rows\n",
            "\n"
          ]
        }
      ]
    },
    {
      "cell_type": "code",
      "source": [
        "predicted = predicted.withColumn('is_fraud',is_fraud(predicted.fraude))"
      ],
      "metadata": {
        "id": "jSoPSAa8Q9cd"
      },
      "execution_count": 65,
      "outputs": []
    },
    {
      "cell_type": "code",
      "source": [
        "predicted.crosstab('is_fraud','prediction').show()"
      ],
      "metadata": {
        "colab": {
          "base_uri": "https://localhost:8080/"
        },
        "id": "_Ox3jEY5RIzm",
        "outputId": "d8c12182-8836-4488-a304-e6cb7614ad46"
      },
      "execution_count": 66,
      "outputs": [
        {
          "output_type": "stream",
          "name": "stdout",
          "text": [
            "+-------------------+---+----+\n",
            "|is_fraud_prediction|0.0| 1.0|\n",
            "+-------------------+---+----+\n",
            "|                1.0|  0|4682|\n",
            "|                0.0|242|   0|\n",
            "+-------------------+---+----+\n",
            "\n"
          ]
        }
      ]
    },
    {
      "cell_type": "code",
      "source": [
        "df_teste_cols = [\n",
        "    'id_transacao',\n",
        "    'valor',\n",
        "    'transaction_date',\n",
        "    'destinatario_nome_index',\n",
        "    'destinatario_banco_index',\n",
        "    'destinatario_tipo_index',\n",
        "    'chave_pix_index',\n",
        "    'categoria_index',\n",
        "    'fraude'\n",
        "]\n",
        "df_test_data = [\n",
        "    (999,103.2,'2023-01-01 11:56:41',328.0,4.0,1.0,3.0,5.0,0),\n",
        "    (124,500000.0,'2023-01-01 11:56:41',328.0,2.0,3.0,2.0,5.0,1)\n",
        "\n",
        "]\n",
        "\n",
        "df_teste = spark.createDataFrame(df_test_data).toDF(*df_teste_cols)"
      ],
      "metadata": {
        "id": "2EX_Y074RPKR"
      },
      "execution_count": 71,
      "outputs": []
    },
    {
      "cell_type": "code",
      "source": [
        "new_prediction = model.transform(df_teste)"
      ],
      "metadata": {
        "id": "9IYTjZZNSJmk"
      },
      "execution_count": 72,
      "outputs": []
    },
    {
      "cell_type": "code",
      "source": [
        "new_prediction.show()"
      ],
      "metadata": {
        "colab": {
          "base_uri": "https://localhost:8080/"
        },
        "id": "sZxtxlgjSlRV",
        "outputId": "bfea0151-e06e-42ec-baac-2fff5151b7e2"
      },
      "execution_count": 73,
      "outputs": [
        {
          "output_type": "stream",
          "name": "stdout",
          "text": [
            "+------------+--------+-------------------+-----------------------+------------------------+-----------------------+---------------+---------------+------+--------------------+--------------------+-----------+----------+\n",
            "|id_transacao|   valor|   transaction_date|destinatario_nome_index|destinatario_banco_index|destinatario_tipo_index|chave_pix_index|categoria_index|fraude|            features|       rawPrediction|probability|prediction|\n",
            "+------------+--------+-------------------+-----------------------+------------------------+-----------------------+---------------+---------------+------+--------------------+--------------------+-----------+----------+\n",
            "|         999|   103.2|2023-01-01 11:56:41|                  328.0|                     4.0|                    1.0|            3.0|            5.0|     0|[999.0,103.2,328....|[426.491663444874...|  [1.0,0.0]|       0.0|\n",
            "|         124|500000.0|2023-01-01 11:56:41|                  328.0|                     2.0|                    3.0|            2.0|            5.0|     1|[124.0,500000.0,3...|[-2127.7467967023...|  [0.0,1.0]|       1.0|\n",
            "+------------+--------+-------------------+-----------------------+------------------------+-----------------------+---------------+---------------+------+--------------------+--------------------+-----------+----------+\n",
            "\n"
          ]
        }
      ]
    },
    {
      "cell_type": "code",
      "source": [],
      "metadata": {
        "id": "NOypby28Sm9Z"
      },
      "execution_count": null,
      "outputs": []
    }
  ]
}